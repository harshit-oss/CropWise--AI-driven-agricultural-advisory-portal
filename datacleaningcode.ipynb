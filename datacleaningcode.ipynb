{
  "nbformat": 4,
  "nbformat_minor": 0,
  "metadata": {
    "colab": {
      "provenance": []
    },
    "kernelspec": {
      "name": "python3",
      "display_name": "Python 3"
    },
    "language_info": {
      "name": "python"
    }
  },
  "cells": [
    {
      "cell_type": "code",
      "execution_count": 2,
      "metadata": {
        "id": "1_ZZkPpaEVSc"
      },
      "outputs": [],
      "source": [
        "import pandas as pd"
      ]
    },
    {
      "cell_type": "code",
      "source": [
        "file_path = \"/1.crop_production_cleaned.csv\"\n",
        "\n",
        "# Load without forcing \"NA\" as NaN\n",
        "df = pd.read_csv(file_path, keep_default_na=True)\n",
        "\n",
        "# Replace \"NA\" and \"#VALUE!\" only in numeric columns\n",
        "for col in df.select_dtypes(include=['int64','float64']).columns:\n",
        "    df[col] = pd.to_numeric(df[col], errors=\"coerce\")\n",
        "\n",
        "# Save back\n",
        "df.to_csv(\"crop_production_cleanedfinal.csv\", index=False)"
      ],
      "metadata": {
        "id": "eQT7v2w6ErRG"
      },
      "execution_count": 3,
      "outputs": []
    },
    {
      "cell_type": "code",
      "source": [
        "df[\"Production\"] = pd.to_numeric(df[\"Production\"], errors=\"coerce\")\n",
        "df[\"Yield\"] = pd.to_numeric(df[\"Yield\"], errors=\"coerce\")"
      ],
      "metadata": {
        "id": "9gZw6-eKIjkK"
      },
      "execution_count": 4,
      "outputs": []
    },
    {
      "cell_type": "code",
      "source": [
        "print(\"Missing values BEFORE filling:\")\n",
        "print(df[[\"Production\", \"Yield\"]].isnull().sum())"
      ],
      "metadata": {
        "colab": {
          "base_uri": "https://localhost:8080/"
        },
        "id": "z_ZxIevBFybq",
        "outputId": "4905f924-35b0-4178-da7c-52276f0b78e7"
      },
      "execution_count": 6,
      "outputs": [
        {
          "output_type": "stream",
          "name": "stdout",
          "text": [
            "Missing values BEFORE filling:\n",
            "Production    3730\n",
            "Yield         3730\n",
            "dtype: int64\n"
          ]
        }
      ]
    },
    {
      "cell_type": "code",
      "source": [
        "df[\"Production\"] = df[\"Production\"].fillna(df[\"Production\"].median())\n",
        "df[\"Yield\"] = df[\"Yield\"].fillna(df[\"Yield\"].median())"
      ],
      "metadata": {
        "id": "3SPm9ZDSFBs2"
      },
      "execution_count": 7,
      "outputs": []
    },
    {
      "cell_type": "code",
      "source": [
        "print(\"\\n Missing values AFTER filling:\")\n",
        "print(df[[\"Production\", \"Yield\"]].isnull().sum())\n"
      ],
      "metadata": {
        "colab": {
          "base_uri": "https://localhost:8080/"
        },
        "id": "ONG6wIPoFrnk",
        "outputId": "dd774f60-b311-4bcc-96da-c46d6b6510d0"
      },
      "execution_count": 8,
      "outputs": [
        {
          "output_type": "stream",
          "name": "stdout",
          "text": [
            "\n",
            " Missing values AFTER filling:\n",
            "Production    0\n",
            "Yield         0\n",
            "dtype: int64\n"
          ]
        }
      ]
    },
    {
      "cell_type": "code",
      "source": [
        "output_path = \"crop_production_cleanedfinal.csv\"\n",
        "df.to_csv(output_path, index=False)\n",
        "print(\"\\nCleaned dataset saved as:\", output_path)"
      ],
      "metadata": {
        "colab": {
          "base_uri": "https://localhost:8080/"
        },
        "id": "rO2PS5CsJT53",
        "outputId": "de1a5c77-3937-4bbe-f268-c36a9f41972e"
      },
      "execution_count": 10,
      "outputs": [
        {
          "output_type": "stream",
          "name": "stdout",
          "text": [
            "\n",
            "Cleaned dataset saved as: crop_production_cleanedfinal.csv\n"
          ]
        }
      ]
    }
  ]
}